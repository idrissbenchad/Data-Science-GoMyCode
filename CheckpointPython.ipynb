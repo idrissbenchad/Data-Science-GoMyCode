{
 "cells": [
  {
   "cell_type": "code",
   "execution_count": 9,
   "id": "42c03fa7-e8c3-40cc-9faa-e5cdc0aeeb4f",
   "metadata": {},
   "outputs": [
    {
     "name": "stdout",
     "output_type": "stream",
     "text": [
      "Bienvenue dans python pizza delivery\n"
     ]
    }
   ],
   "source": [
    "print  (\"Bienvenue dans python pizza delivery\")"
   ]
  },
  {
   "cell_type": "code",
   "execution_count": null,
   "id": "b5d83ef0-dcd0-446e-a7a6-50f30aecf029",
   "metadata": {},
   "outputs": [],
   "source": [
    "Size = input  (\"taille\") \n",
    "\n"
   ]
  },
  {
   "cell_type": "code",
   "execution_count": 11,
   "id": "c06114d0-4570-4fec-a655-730ab433c100",
   "metadata": {},
   "outputs": [
    {
     "name": "stdin",
     "output_type": "stream",
     "text": [
      "Est ce que tu veux une pizza avec des pepperoni N\n"
     ]
    }
   ],
   "source": [
    "pep = input  (\"Est ce que tu veux une pizza avec des pepperoni\")"
   ]
  },
  {
   "cell_type": "code",
   "execution_count": 12,
   "id": "d99c5d40-a5b5-4210-a457-11bcdb6f03e3",
   "metadata": {},
   "outputs": [
    {
     "name": "stdin",
     "output_type": "stream",
     "text": [
      "Est ce que tu veux du fromage Y\n"
     ]
    }
   ],
   "source": [
    "fr = input  (\"Est ce que tu veux du fromage\")"
   ]
  },
  {
   "cell_type": "code",
   "execution_count": 20,
   "id": "13d84fe6-24b8-45dd-8292-31d046dcb303",
   "metadata": {},
   "outputs": [
    {
     "name": "stdout",
     "output_type": "stream",
     "text": [
      "Votre facture est: 26\n"
     ]
    }
   ],
   "source": [
    "Prix=0\n",
    "sup1=0\n",
    "Sup2=0\n",
    "if Size == \"S\":\n",
    "    Prix=15\n",
    "elif Size == \"M\":\n",
    "    Prix=20\n",
    "elif Size == \"L\":\n",
    "    Prix=25\n",
    "\n",
    "if Size == \"S\" and pep == \"Y\":\n",
    "    sup1=2\n",
    "elif (Size == \"M\" or Size == \"L\") and pep ==\"Y\":\n",
    "    sup1=3\n",
    "\n",
    "\n",
    "if fr==\"Y\":\n",
    "    sup2=1\n",
    "\n",
    "Facture = Prix + sup1 + sup2\n",
    "print(\"Votre facture est:\", Facture)"
   ]
  }
 ],
 "metadata": {
  "kernelspec": {
   "display_name": "Python 3 (ipykernel)",
   "language": "python",
   "name": "python3"
  },
  "language_info": {
   "codemirror_mode": {
    "name": "ipython",
    "version": 3
   },
   "file_extension": ".py",
   "mimetype": "text/x-python",
   "name": "python",
   "nbconvert_exporter": "python",
   "pygments_lexer": "ipython3",
   "version": "3.11.7"
  }
 },
 "nbformat": 4,
 "nbformat_minor": 5
}
